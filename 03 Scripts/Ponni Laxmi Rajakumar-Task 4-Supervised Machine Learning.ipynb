{
 "cells": [
  {
   "cell_type": "markdown",
   "id": "d5f56ba6",
   "metadata": {},
   "source": [
    "## ........................................Rental property analysis in Germany..............................................\n",
    "## Task 4 - Supervised Machine Learning\n",
    "\n",
    "#### 1.Import Libraries\n",
    "#### 2.Import Data\n",
    "#### 3.Data Cleaning\n",
    "#### 4.Data prep for regression analysis\n",
    "#### 5.Regression analysis\n",
    "#### 6.Performance improvement after removing outliers"
   ]
  },
  {
   "cell_type": "markdown",
   "id": "f95b6ff7",
   "metadata": {},
   "source": [
    "# 1.Import Libraries"
   ]
  },
  {
   "cell_type": "code",
   "execution_count": 1,
   "id": "7374aa97",
   "metadata": {},
   "outputs": [],
   "source": [
    "import pandas as pd\n",
    "import numpy as np\n",
    "import seaborn as sns\n",
    "import matplotlib\n",
    "import matplotlib.pyplot as plt\n",
    "import os\n",
    "import sklearn\n",
    "from sklearn.model_selection import train_test_split \n",
    "from sklearn.linear_model import LinearRegression\n",
    "from sklearn.metrics import mean_squared_error, r2_score"
   ]
  },
  {
   "cell_type": "code",
   "execution_count": 2,
   "id": "524a0053",
   "metadata": {},
   "outputs": [],
   "source": [
    "# This option ensures that the graphs you create are displayed within the notebook without the need to \"call\" them specifically.\n",
    "\n",
    "%matplotlib inline"
   ]
  },
  {
   "cell_type": "markdown",
   "id": "3619c113",
   "metadata": {},
   "source": [
    "# 2.Import Data"
   ]
  },
  {
   "cell_type": "code",
   "execution_count": 3,
   "id": "65066776",
   "metadata": {},
   "outputs": [],
   "source": [
    "# create path\n",
    "\n",
    "path = r\"C:\\Users\\ponni\\Achievement 6\""
   ]
  },
  {
   "cell_type": "code",
   "execution_count": 4,
   "id": "289fbed6",
   "metadata": {},
   "outputs": [],
   "source": [
    "# Import original data\n",
    "df = pd.read_csv(os.path.join(path, '02 Data', 'Prepared data', 'immodata_new7.csv'), index_col = False)"
   ]
  },
  {
   "cell_type": "markdown",
   "id": "c807670a",
   "metadata": {},
   "source": [
    "# 3.Data Cleaning"
   ]
  },
  {
   "cell_type": "code",
   "execution_count": 5,
   "id": "c50df567",
   "metadata": {},
   "outputs": [
    {
     "name": "stdout",
     "output_type": "stream",
     "text": [
      "<class 'pandas.core.frame.DataFrame'>\n",
      "RangeIndex: 209079 entries, 0 to 209078\n",
      "Data columns (total 25 columns):\n",
      " #   Column            Non-Null Count   Dtype  \n",
      "---  ------            --------------   -----  \n",
      " 0   Unnamed: 0        209079 non-null  int64  \n",
      " 1   State             209079 non-null  object \n",
      " 2   City              209079 non-null  object \n",
      " 3   Pincode           209079 non-null  int64  \n",
      " 4   Year_constructed  209079 non-null  int64  \n",
      " 5   Rent              209079 non-null  float64\n",
      " 6   Base_rent         209079 non-null  float64\n",
      " 7   Maintenance_fee   209079 non-null  float64\n",
      " 8   Area(m2)          209079 non-null  float64\n",
      " 9   Rooms             209079 non-null  int64  \n",
      " 10  Heating_type      209079 non-null  object \n",
      " 11  House_condition   209079 non-null  object \n",
      " 12  TV_offer          209079 non-null  object \n",
      " 13  Newly_built       209079 non-null  bool   \n",
      " 14  Balcony           209079 non-null  bool   \n",
      " 15  Picture_count     209079 non-null  int64  \n",
      " 16  Price_trend       209079 non-null  float64\n",
      " 17  Kitchen           209079 non-null  bool   \n",
      " 18  Cellar            209079 non-null  bool   \n",
      " 19  Lift              209079 non-null  bool   \n",
      " 20  Flat_type         209079 non-null  object \n",
      " 21  Floor             209079 non-null  int64  \n",
      " 22  Garden            209079 non-null  bool   \n",
      " 23  Price_per_m2      209079 non-null  float64\n",
      " 24  Rent_range        209079 non-null  object \n",
      "dtypes: bool(6), float64(6), int64(6), object(7)\n",
      "memory usage: 31.5+ MB\n"
     ]
    }
   ],
   "source": [
    "df.info()"
   ]
  },
  {
   "cell_type": "code",
   "execution_count": 6,
   "id": "0a8bc323",
   "metadata": {},
   "outputs": [],
   "source": [
    "#Removing unnecessary column\n",
    "df.drop('Unnamed: 0', axis=1, inplace=True)\n",
    "df.drop('Floor', axis=1, inplace=True)"
   ]
  },
  {
   "cell_type": "code",
   "execution_count": 7,
   "id": "10dc4b77",
   "metadata": {},
   "outputs": [
    {
     "data": {
      "text/html": [
       "<div>\n",
       "<style scoped>\n",
       "    .dataframe tbody tr th:only-of-type {\n",
       "        vertical-align: middle;\n",
       "    }\n",
       "\n",
       "    .dataframe tbody tr th {\n",
       "        vertical-align: top;\n",
       "    }\n",
       "\n",
       "    .dataframe thead th {\n",
       "        text-align: right;\n",
       "    }\n",
       "</style>\n",
       "<table border=\"1\" class=\"dataframe\">\n",
       "  <thead>\n",
       "    <tr style=\"text-align: right;\">\n",
       "      <th></th>\n",
       "      <th>State</th>\n",
       "      <th>City</th>\n",
       "      <th>Pincode</th>\n",
       "      <th>Year_constructed</th>\n",
       "      <th>Rent</th>\n",
       "      <th>Base_rent</th>\n",
       "      <th>Maintenance_fee</th>\n",
       "      <th>Area(m2)</th>\n",
       "      <th>Rooms</th>\n",
       "      <th>Heating_type</th>\n",
       "      <th>...</th>\n",
       "      <th>Balcony</th>\n",
       "      <th>Picture_count</th>\n",
       "      <th>Price_trend</th>\n",
       "      <th>Kitchen</th>\n",
       "      <th>Cellar</th>\n",
       "      <th>Lift</th>\n",
       "      <th>Flat_type</th>\n",
       "      <th>Garden</th>\n",
       "      <th>Price_per_m2</th>\n",
       "      <th>Rent_range</th>\n",
       "    </tr>\n",
       "  </thead>\n",
       "  <tbody>\n",
       "    <tr>\n",
       "      <th>0</th>\n",
       "      <td>Nordrhein_Westfalen</td>\n",
       "      <td>Dortmund</td>\n",
       "      <td>44269</td>\n",
       "      <td>1965</td>\n",
       "      <td>840.00</td>\n",
       "      <td>595.0</td>\n",
       "      <td>245.00</td>\n",
       "      <td>86.00</td>\n",
       "      <td>4</td>\n",
       "      <td>central_heating</td>\n",
       "      <td>...</td>\n",
       "      <td>False</td>\n",
       "      <td>6</td>\n",
       "      <td>4.62</td>\n",
       "      <td>False</td>\n",
       "      <td>True</td>\n",
       "      <td>False</td>\n",
       "      <td>ground_floor</td>\n",
       "      <td>True</td>\n",
       "      <td>6.918605</td>\n",
       "      <td>Average rent</td>\n",
       "    </tr>\n",
       "    <tr>\n",
       "      <th>1</th>\n",
       "      <td>Rheinland_Pfalz</td>\n",
       "      <td>Rhein_Pfalz_Kreis</td>\n",
       "      <td>67459</td>\n",
       "      <td>1871</td>\n",
       "      <td>934.00</td>\n",
       "      <td>800.0</td>\n",
       "      <td>134.00</td>\n",
       "      <td>89.00</td>\n",
       "      <td>3</td>\n",
       "      <td>self_contained_central_heating</td>\n",
       "      <td>...</td>\n",
       "      <td>True</td>\n",
       "      <td>8</td>\n",
       "      <td>3.47</td>\n",
       "      <td>False</td>\n",
       "      <td>False</td>\n",
       "      <td>False</td>\n",
       "      <td>ground_floor</td>\n",
       "      <td>False</td>\n",
       "      <td>8.988764</td>\n",
       "      <td>low rent</td>\n",
       "    </tr>\n",
       "    <tr>\n",
       "      <th>2</th>\n",
       "      <td>Sachsen</td>\n",
       "      <td>Dresden</td>\n",
       "      <td>1097</td>\n",
       "      <td>2019</td>\n",
       "      <td>1220.00</td>\n",
       "      <td>965.0</td>\n",
       "      <td>255.00</td>\n",
       "      <td>83.80</td>\n",
       "      <td>3</td>\n",
       "      <td>floor_heating</td>\n",
       "      <td>...</td>\n",
       "      <td>True</td>\n",
       "      <td>8</td>\n",
       "      <td>2.72</td>\n",
       "      <td>False</td>\n",
       "      <td>True</td>\n",
       "      <td>True</td>\n",
       "      <td>apartment</td>\n",
       "      <td>False</td>\n",
       "      <td>11.515513</td>\n",
       "      <td>High rent</td>\n",
       "    </tr>\n",
       "    <tr>\n",
       "      <th>3</th>\n",
       "      <td>Sachsen</td>\n",
       "      <td>Mittelsachsen_Kreis</td>\n",
       "      <td>9599</td>\n",
       "      <td>1964</td>\n",
       "      <td>401.15</td>\n",
       "      <td>343.0</td>\n",
       "      <td>58.15</td>\n",
       "      <td>58.15</td>\n",
       "      <td>3</td>\n",
       "      <td>district_heating</td>\n",
       "      <td>...</td>\n",
       "      <td>True</td>\n",
       "      <td>9</td>\n",
       "      <td>1.53</td>\n",
       "      <td>False</td>\n",
       "      <td>False</td>\n",
       "      <td>False</td>\n",
       "      <td>other</td>\n",
       "      <td>False</td>\n",
       "      <td>5.898538</td>\n",
       "      <td>Average rent</td>\n",
       "    </tr>\n",
       "    <tr>\n",
       "      <th>4</th>\n",
       "      <td>Bremen</td>\n",
       "      <td>Bremen</td>\n",
       "      <td>28213</td>\n",
       "      <td>1950</td>\n",
       "      <td>903.00</td>\n",
       "      <td>765.0</td>\n",
       "      <td>138.00</td>\n",
       "      <td>84.97</td>\n",
       "      <td>3</td>\n",
       "      <td>self_contained_central_heating</td>\n",
       "      <td>...</td>\n",
       "      <td>True</td>\n",
       "      <td>19</td>\n",
       "      <td>2.46</td>\n",
       "      <td>False</td>\n",
       "      <td>False</td>\n",
       "      <td>False</td>\n",
       "      <td>apartment</td>\n",
       "      <td>False</td>\n",
       "      <td>9.003178</td>\n",
       "      <td>Average rent</td>\n",
       "    </tr>\n",
       "  </tbody>\n",
       "</table>\n",
       "<p>5 rows × 23 columns</p>\n",
       "</div>"
      ],
      "text/plain": [
       "                 State                 City  Pincode  Year_constructed  \\\n",
       "0  Nordrhein_Westfalen             Dortmund    44269              1965   \n",
       "1      Rheinland_Pfalz    Rhein_Pfalz_Kreis    67459              1871   \n",
       "2              Sachsen              Dresden     1097              2019   \n",
       "3              Sachsen  Mittelsachsen_Kreis     9599              1964   \n",
       "4               Bremen               Bremen    28213              1950   \n",
       "\n",
       "      Rent  Base_rent  Maintenance_fee  Area(m2)  Rooms  \\\n",
       "0   840.00      595.0           245.00     86.00      4   \n",
       "1   934.00      800.0           134.00     89.00      3   \n",
       "2  1220.00      965.0           255.00     83.80      3   \n",
       "3   401.15      343.0            58.15     58.15      3   \n",
       "4   903.00      765.0           138.00     84.97      3   \n",
       "\n",
       "                     Heating_type  ... Balcony Picture_count  Price_trend  \\\n",
       "0                 central_heating  ...   False             6         4.62   \n",
       "1  self_contained_central_heating  ...    True             8         3.47   \n",
       "2                   floor_heating  ...    True             8         2.72   \n",
       "3                district_heating  ...    True             9         1.53   \n",
       "4  self_contained_central_heating  ...    True            19         2.46   \n",
       "\n",
       "   Kitchen  Cellar   Lift     Flat_type  Garden  Price_per_m2    Rent_range  \n",
       "0    False    True  False  ground_floor    True      6.918605  Average rent  \n",
       "1    False   False  False  ground_floor   False      8.988764      low rent  \n",
       "2    False    True   True     apartment   False     11.515513    High rent   \n",
       "3    False   False  False         other   False      5.898538  Average rent  \n",
       "4    False   False  False     apartment   False      9.003178  Average rent  \n",
       "\n",
       "[5 rows x 23 columns]"
      ]
     },
     "execution_count": 7,
     "metadata": {},
     "output_type": "execute_result"
    }
   ],
   "source": [
    "df.head()"
   ]
  },
  {
   "cell_type": "code",
   "execution_count": 28,
   "id": "a75d6a3a",
   "metadata": {},
   "outputs": [
    {
     "data": {
      "text/plain": [
       "(209079, 23)"
      ]
     },
     "execution_count": 28,
     "metadata": {},
     "output_type": "execute_result"
    }
   ],
   "source": [
    "df.shape"
   ]
  },
  {
   "cell_type": "markdown",
   "id": "fba2206c",
   "metadata": {},
   "source": [
    "## Check missing values"
   ]
  },
  {
   "cell_type": "code",
   "execution_count": 29,
   "id": "8159d2e0",
   "metadata": {},
   "outputs": [
    {
     "data": {
      "text/plain": [
       "State               0\n",
       "City                0\n",
       "Pincode             0\n",
       "Year_constructed    0\n",
       "Rent                0\n",
       "Base_rent           0\n",
       "Maintenance_fee     0\n",
       "Area(m2)            0\n",
       "Rooms               0\n",
       "Heating_type        0\n",
       "House_condition     0\n",
       "TV_offer            0\n",
       "Newly_built         0\n",
       "Balcony             0\n",
       "Picture_count       0\n",
       "Price_trend         0\n",
       "Kitchen             0\n",
       "Cellar              0\n",
       "Lift                0\n",
       "Flat_type           0\n",
       "Garden              0\n",
       "Price_per_m2        0\n",
       "Rent_range          0\n",
       "dtype: int64"
      ]
     },
     "execution_count": 29,
     "metadata": {},
     "output_type": "execute_result"
    }
   ],
   "source": [
    "# Check for missing values\n",
    "\n",
    "df.isnull().sum()\n",
    "\n",
    "# No missing values to handle"
   ]
  },
  {
   "cell_type": "markdown",
   "id": "644b0276",
   "metadata": {},
   "source": [
    "## Duplicates check"
   ]
  },
  {
   "cell_type": "code",
   "execution_count": 30,
   "id": "8f32a345",
   "metadata": {},
   "outputs": [],
   "source": [
    "dups = df.duplicated()"
   ]
  },
  {
   "cell_type": "code",
   "execution_count": 31,
   "id": "47a3226d",
   "metadata": {},
   "outputs": [
    {
     "data": {
      "text/plain": [
       "(209079,)"
      ]
     },
     "execution_count": 31,
     "metadata": {},
     "output_type": "execute_result"
    }
   ],
   "source": [
    "dups.shape # No dups"
   ]
  },
  {
   "cell_type": "markdown",
   "id": "c37ec54f",
   "metadata": {},
   "source": [
    "## Extreme values checks"
   ]
  },
  {
   "cell_type": "code",
   "execution_count": 34,
   "id": "5d184a3d",
   "metadata": {},
   "outputs": [
    {
     "name": "stderr",
     "output_type": "stream",
     "text": [
      "C:\\Users\\ponni\\AppData\\Local\\Temp\\ipykernel_12176\\3767174492.py:1: UserWarning: \n",
      "\n",
      "`distplot` is a deprecated function and will be removed in seaborn v0.14.0.\n",
      "\n",
      "Please adapt your code to use either `displot` (a figure-level function with\n",
      "similar flexibility) or `histplot` (an axes-level function for histograms).\n",
      "\n",
      "For a guide to updating your code to use the new functions, please see\n",
      "https://gist.github.com/mwaskom/de44147ed2974457ad6372750bbe5751\n",
      "\n",
      "  sns.distplot(df['Price_per_m2'], bins=25) # Shows extreme values\n"
     ]
    },
    {
     "data": {
      "text/plain": [
       "<AxesSubplot: xlabel='Price_per_m2', ylabel='Density'>"
      ]
     },
     "execution_count": 34,
     "metadata": {},
     "output_type": "execute_result"
    },
    {
     "data": {
      "image/png": "[encoded data removed]",
      "text/plain": [
       "<Figure size 640x480 with 1 Axes>"
      ]
     },
     "metadata": {},
     "output_type": "display_data"
    }
   ],
   "source": [
    "sns.distplot(df['Price_per_m2'], bins=25) # Shows extreme values\n",
    "\n",
    "# Some of the outliers in the high values may need to be removed, but let's try without doing so first."
   ]
  },
  {
   "cell_type": "code",
   "execution_count": 35,
   "id": "ea019772",
   "metadata": {},
   "outputs": [
    {
     "data": {
      "text/plain": [
       "count    209079.000000\n",
       "mean          8.707519\n",
       "std           4.625243\n",
       "min           0.029412\n",
       "25%           5.625000\n",
       "50%           7.403651\n",
       "75%          10.251256\n",
       "max         250.000000\n",
       "Name: Price_per_m2, dtype: float64"
      ]
     },
     "execution_count": 35,
     "metadata": {},
     "output_type": "execute_result"
    }
   ],
   "source": [
    "df['Price_per_m2'].describe()"
   ]
  },
  {
   "cell_type": "markdown",
   "id": "59f17cdb",
   "metadata": {},
   "source": [
    "# 4.Data prep for regression analysis"
   ]
  },
  {
   "cell_type": "code",
   "execution_count": 36,
   "id": "f3ff09ef",
   "metadata": {},
   "outputs": [
    {
     "data": {
      "image/png": "[encoded data removed]",
      "text/plain": [
       "<Figure size 640x480 with 1 Axes>"
      ]
     },
     "metadata": {},
     "output_type": "display_data"
    }
   ],
   "source": [
    "# Create a scatterplot using matplotlib for another look at how the chosen variables plot against each other.\n",
    "\n",
    "df.plot(x = 'Year_constructed', y='Price_per_m2',style='o') # The style option creates a scatterplot; without it, we only have lines.\n",
    "plt.title('Constrcuction year vs Price per square meter')  \n",
    "plt.xlabel('Year_constructed')  \n",
    "plt.ylabel('Price_per_m2')  \n",
    "plt.show()"
   ]
  },
  {
   "cell_type": "code",
   "execution_count": 37,
   "id": "860f7145",
   "metadata": {},
   "outputs": [],
   "source": [
    "# Reshape the variables into NumPy arrays and put them into separate objects.\n",
    "\n",
    "X = df['Year_constructed'].values.reshape(-1,1)\n",
    "y = df['Price_per_m2'].values.reshape(-1,1)"
   ]
  },
  {
   "cell_type": "code",
   "execution_count": 38,
   "id": "30a40a69",
   "metadata": {},
   "outputs": [
    {
     "data": {
      "text/plain": [
       "array([[1965],\n",
       "       [1871],\n",
       "       [2019],\n",
       "       ...,\n",
       "       [1965],\n",
       "       [2019],\n",
       "       [1972]], dtype=int64)"
      ]
     },
     "execution_count": 38,
     "metadata": {},
     "output_type": "execute_result"
    }
   ],
   "source": [
    "X"
   ]
  },
  {
   "cell_type": "code",
   "execution_count": 39,
   "id": "a005ddee",
   "metadata": {},
   "outputs": [
    {
     "data": {
      "text/plain": [
       "array([[ 6.91860465],\n",
       "       [ 8.98876404],\n",
       "       [11.51551313],\n",
       "       ...,\n",
       "       [ 6.84210526],\n",
       "       [12.        ],\n",
       "       [12.14285714]])"
      ]
     },
     "execution_count": 39,
     "metadata": {},
     "output_type": "execute_result"
    }
   ],
   "source": [
    "y"
   ]
  },
  {
   "cell_type": "code",
   "execution_count": 40,
   "id": "2bab4357",
   "metadata": {},
   "outputs": [],
   "source": [
    "# Split data into a training set and a test set.\n",
    "\n",
    "X_train, X_test, y_train, y_test = train_test_split(X, y, test_size=0.3, random_state=0)"
   ]
  },
  {
   "cell_type": "markdown",
   "id": "e4fa7c5b",
   "metadata": {},
   "source": [
    "# 5.Regression analysis"
   ]
  },
  {
   "cell_type": "code",
   "execution_count": 41,
   "id": "46b13a6e",
   "metadata": {},
   "outputs": [],
   "source": [
    "# Create a regression object.\n",
    "\n",
    "regression = LinearRegression()  # This is the regression object, which will be fit onto the training set."
   ]
  },
  {
   "cell_type": "code",
   "execution_count": 42,
   "id": "b6d4dbfb",
   "metadata": {},
   "outputs": [
    {
     "data": {
      "text/plain": [
       "LinearRegression()"
      ]
     },
     "execution_count": 42,
     "metadata": {},
     "output_type": "execute_result"
    }
   ],
   "source": [
    "# Fit the regression object onto the training set.\n",
    "\n",
    "regression.fit(X_train, y_train)"
   ]
  },
  {
   "cell_type": "code",
   "execution_count": 43,
   "id": "3e2a34af",
   "metadata": {},
   "outputs": [],
   "source": [
    "# Predict the values of y using X.\n",
    "\n",
    "y_predicted = regression.predict(X_test)"
   ]
  },
  {
   "cell_type": "code",
   "execution_count": 44,
   "id": "7e907f1e",
   "metadata": {},
   "outputs": [
    {
     "data": {
      "image/png": "[encoded data removed]",
      "text/plain": [
       "<Figure size 640x480 with 1 Axes>"
      ]
     },
     "metadata": {},
     "output_type": "display_data"
    }
   ],
   "source": [
    "# Create a plot that shows the regression line from the model on the test set.\n",
    "\n",
    "plot_test = plt\n",
    "plot_test.scatter(X_test, y_test, color='yellow', s = 15)\n",
    "plot_test.plot(X_test, y_predicted, color='red', linewidth =3)\n",
    "plot_test.title('Constrcuction year vs Price per square meter (Test set)')\n",
    "plot_test.xlabel('Year_constructed')\n",
    "plot_test.ylabel('Price_per_m2')\n",
    "plot_test.show()"
   ]
  },
  {
   "cell_type": "code",
   "execution_count": 45,
   "id": "2e9e418b",
   "metadata": {},
   "outputs": [],
   "source": [
    "# Create objects that contain the model summary statistics.\n",
    "\n",
    "rmse = mean_squared_error(y_test, y_predicted) # This is the mean squared error\n",
    "r2 = r2_score(y_test, y_predicted) # This is the R2 score. "
   ]
  },
  {
   "cell_type": "code",
   "execution_count": 46,
   "id": "5b00143a",
   "metadata": {},
   "outputs": [
    {
     "name": "stdout",
     "output_type": "stream",
     "text": [
      "Slope: [[0.02903566]]\n",
      "Mean squared error:  20.620688573244326\n",
      "R2 score:  0.05739361170609614\n"
     ]
    }
   ],
   "source": [
    "# Print the model summary statistics. This is where you evaluate the performance of the model.\n",
    "\n",
    "print('Slope:' ,regression.coef_)\n",
    "print('Mean squared error: ', rmse)\n",
    "print('R2 score: ', r2)"
   ]
  },
  {
   "cell_type": "markdown",
   "id": "f37649ea",
   "metadata": {},
   "source": [
    "#### A positive slope indicates a positive relationship as Year of construction rises the price per m2 also rises. R2 is not that great as the value is closer to zero."
   ]
  },
  {
   "cell_type": "code",
   "execution_count": 47,
   "id": "f02032b6",
   "metadata": {},
   "outputs": [
    {
     "data": {
      "text/html": [
       "<div>\n",
       "<style scoped>\n",
       "    .dataframe tbody tr th:only-of-type {\n",
       "        vertical-align: middle;\n",
       "    }\n",
       "\n",
       "    .dataframe tbody tr th {\n",
       "        vertical-align: top;\n",
       "    }\n",
       "\n",
       "    .dataframe thead th {\n",
       "        text-align: right;\n",
       "    }\n",
       "</style>\n",
       "<table border=\"1\" class=\"dataframe\">\n",
       "  <thead>\n",
       "    <tr style=\"text-align: right;\">\n",
       "      <th></th>\n",
       "      <th>Actual</th>\n",
       "      <th>Predicted</th>\n",
       "    </tr>\n",
       "  </thead>\n",
       "  <tbody>\n",
       "    <tr>\n",
       "      <th>0</th>\n",
       "      <td>11.000000</td>\n",
       "      <td>8.762668</td>\n",
       "    </tr>\n",
       "    <tr>\n",
       "      <th>1</th>\n",
       "      <td>11.029412</td>\n",
       "      <td>10.156380</td>\n",
       "    </tr>\n",
       "    <tr>\n",
       "      <th>2</th>\n",
       "      <td>4.292035</td>\n",
       "      <td>7.078600</td>\n",
       "    </tr>\n",
       "    <tr>\n",
       "      <th>3</th>\n",
       "      <td>6.300000</td>\n",
       "      <td>7.833527</td>\n",
       "    </tr>\n",
       "    <tr>\n",
       "      <th>4</th>\n",
       "      <td>6.200029</td>\n",
       "      <td>9.227239</td>\n",
       "    </tr>\n",
       "    <tr>\n",
       "      <th>5</th>\n",
       "      <td>11.000000</td>\n",
       "      <td>10.040237</td>\n",
       "    </tr>\n",
       "    <tr>\n",
       "      <th>6</th>\n",
       "      <td>11.997768</td>\n",
       "      <td>8.675561</td>\n",
       "    </tr>\n",
       "    <tr>\n",
       "      <th>7</th>\n",
       "      <td>5.552471</td>\n",
       "      <td>5.046103</td>\n",
       "    </tr>\n",
       "    <tr>\n",
       "      <th>8</th>\n",
       "      <td>10.421053</td>\n",
       "      <td>8.762668</td>\n",
       "    </tr>\n",
       "    <tr>\n",
       "      <th>9</th>\n",
       "      <td>13.061224</td>\n",
       "      <td>10.185415</td>\n",
       "    </tr>\n",
       "    <tr>\n",
       "      <th>10</th>\n",
       "      <td>16.901408</td>\n",
       "      <td>9.198203</td>\n",
       "    </tr>\n",
       "    <tr>\n",
       "      <th>11</th>\n",
       "      <td>19.047619</td>\n",
       "      <td>10.185415</td>\n",
       "    </tr>\n",
       "    <tr>\n",
       "      <th>12</th>\n",
       "      <td>4.423077</td>\n",
       "      <td>7.020528</td>\n",
       "    </tr>\n",
       "    <tr>\n",
       "      <th>13</th>\n",
       "      <td>4.910035</td>\n",
       "      <td>8.530383</td>\n",
       "    </tr>\n",
       "    <tr>\n",
       "      <th>14</th>\n",
       "      <td>5.313200</td>\n",
       "      <td>9.140132</td>\n",
       "    </tr>\n",
       "    <tr>\n",
       "      <th>15</th>\n",
       "      <td>6.895581</td>\n",
       "      <td>9.198203</td>\n",
       "    </tr>\n",
       "    <tr>\n",
       "      <th>16</th>\n",
       "      <td>10.638298</td>\n",
       "      <td>7.833527</td>\n",
       "    </tr>\n",
       "    <tr>\n",
       "      <th>17</th>\n",
       "      <td>4.530071</td>\n",
       "      <td>8.965918</td>\n",
       "    </tr>\n",
       "    <tr>\n",
       "      <th>18</th>\n",
       "      <td>6.293571</td>\n",
       "      <td>9.198203</td>\n",
       "    </tr>\n",
       "    <tr>\n",
       "      <th>19</th>\n",
       "      <td>5.027147</td>\n",
       "      <td>9.343381</td>\n",
       "    </tr>\n",
       "    <tr>\n",
       "      <th>20</th>\n",
       "      <td>5.220287</td>\n",
       "      <td>8.327133</td>\n",
       "    </tr>\n",
       "    <tr>\n",
       "      <th>21</th>\n",
       "      <td>5.400372</td>\n",
       "      <td>8.530383</td>\n",
       "    </tr>\n",
       "    <tr>\n",
       "      <th>22</th>\n",
       "      <td>9.409190</td>\n",
       "      <td>6.584993</td>\n",
       "    </tr>\n",
       "    <tr>\n",
       "      <th>23</th>\n",
       "      <td>11.493030</td>\n",
       "      <td>10.214451</td>\n",
       "    </tr>\n",
       "    <tr>\n",
       "      <th>24</th>\n",
       "      <td>6.450017</td>\n",
       "      <td>8.443276</td>\n",
       "    </tr>\n",
       "    <tr>\n",
       "      <th>25</th>\n",
       "      <td>6.128571</td>\n",
       "      <td>7.746420</td>\n",
       "    </tr>\n",
       "    <tr>\n",
       "      <th>26</th>\n",
       "      <td>13.164193</td>\n",
       "      <td>10.214451</td>\n",
       "    </tr>\n",
       "    <tr>\n",
       "      <th>27</th>\n",
       "      <td>8.203543</td>\n",
       "      <td>9.604702</td>\n",
       "    </tr>\n",
       "    <tr>\n",
       "      <th>28</th>\n",
       "      <td>5.266667</td>\n",
       "      <td>8.791704</td>\n",
       "    </tr>\n",
       "    <tr>\n",
       "      <th>29</th>\n",
       "      <td>6.497462</td>\n",
       "      <td>10.098308</td>\n",
       "    </tr>\n",
       "  </tbody>\n",
       "</table>\n",
       "</div>"
      ],
      "text/plain": [
       "       Actual  Predicted\n",
       "0   11.000000   8.762668\n",
       "1   11.029412  10.156380\n",
       "2    4.292035   7.078600\n",
       "3    6.300000   7.833527\n",
       "4    6.200029   9.227239\n",
       "5   11.000000  10.040237\n",
       "6   11.997768   8.675561\n",
       "7    5.552471   5.046103\n",
       "8   10.421053   8.762668\n",
       "9   13.061224  10.185415\n",
       "10  16.901408   9.198203\n",
       "11  19.047619  10.185415\n",
       "12   4.423077   7.020528\n",
       "13   4.910035   8.530383\n",
       "14   5.313200   9.140132\n",
       "15   6.895581   9.198203\n",
       "16  10.638298   7.833527\n",
       "17   4.530071   8.965918\n",
       "18   6.293571   9.198203\n",
       "19   5.027147   9.343381\n",
       "20   5.220287   8.327133\n",
       "21   5.400372   8.530383\n",
       "22   9.409190   6.584993\n",
       "23  11.493030  10.214451\n",
       "24   6.450017   8.443276\n",
       "25   6.128571   7.746420\n",
       "26  13.164193  10.214451\n",
       "27   8.203543   9.604702\n",
       "28   5.266667   8.791704\n",
       "29   6.497462  10.098308"
      ]
     },
     "execution_count": 47,
     "metadata": {},
     "output_type": "execute_result"
    }
   ],
   "source": [
    "# Create a dataframe comparing the actual and predicted values of y.\n",
    "\n",
    "data = pd.DataFrame({'Actual': y_test.flatten(), 'Predicted': y_predicted.flatten()})\n",
    "data.head(30)"
   ]
  },
  {
   "cell_type": "markdown",
   "id": "b923ab7c",
   "metadata": {},
   "source": [
    "### Compare how the regression fits the training set"
   ]
  },
  {
   "cell_type": "code",
   "execution_count": 48,
   "id": "d8566a49",
   "metadata": {},
   "outputs": [],
   "source": [
    "# Predict.\n",
    "\n",
    "y_predicted_train = regression.predict(X_train) # This is predicting X_train!"
   ]
  },
  {
   "cell_type": "code",
   "execution_count": 49,
   "id": "064b7a43",
   "metadata": {},
   "outputs": [],
   "source": [
    "rmse = mean_squared_error(y_train, y_predicted_train)\n",
    "r2 = r2_score(y_train, y_predicted_train)"
   ]
  },
  {
   "cell_type": "code",
   "execution_count": 50,
   "id": "6a6666c1",
   "metadata": {},
   "outputs": [
    {
     "name": "stdout",
     "output_type": "stream",
     "text": [
      "Slope: [[0.02903566]]\n",
      "Mean squared error:  19.939834152926693\n",
      "R2 score:  0.058799215742829425\n"
     ]
    }
   ],
   "source": [
    "print('Slope:' ,regression.coef_)\n",
    "print('Mean squared error: ', rmse)\n",
    "print('R2 score: ', r2)"
   ]
  },
  {
   "cell_type": "code",
   "execution_count": 51,
   "id": "d0fa43b8",
   "metadata": {},
   "outputs": [
    {
     "data": {
      "image/png": "[encoded data removed]",
      "text/plain": [
       "<Figure size 640x480 with 1 Axes>"
      ]
     },
     "metadata": {},
     "output_type": "display_data"
    }
   ],
   "source": [
    "# Visualizing the training set results.\n",
    "\n",
    "plot_test = plt\n",
    "plot_test.scatter(X_train, y_train, color='green', s = 15)\n",
    "plot_test.plot(X_train, y_predicted_train, color='red', linewidth =3)\n",
    "plot_test.title('Constrcuction year vs Price per square meter (Train set)')\n",
    "plot_test.xlabel('Year_constructed')\n",
    "plot_test.ylabel('Price_per_m2')\n",
    "plot_test.show()"
   ]
  },
  {
   "cell_type": "markdown",
   "id": "2dcefc39",
   "metadata": {},
   "source": [
    "# 6.Perfomance improvement after removing outliers"
   ]
  },
  {
   "cell_type": "code",
   "execution_count": 52,
   "id": "8ff34796",
   "metadata": {},
   "outputs": [],
   "source": [
    "# Clean the extreme values from the \"Price per m2\" variable observed during the consistency checks.\n",
    "\n",
    "df_test = df[df['Price_per_m2'] <=50] "
   ]
  },
  {
   "cell_type": "code",
   "execution_count": 53,
   "id": "f2143299",
   "metadata": {},
   "outputs": [
    {
     "data": {
      "image/png": "[encoded data removed]",
      "text/plain": [
       "<Figure size 640x480 with 1 Axes>"
      ]
     },
     "metadata": {},
     "output_type": "display_data"
    }
   ],
   "source": [
    "# See how the scatterplot looks without outliers.\n",
    "\n",
    "df_test.plot(x = 'Year_constructed', y='Price_per_m2', style='o')  \n",
    "plt.title('Constrcuction year vs Price per square meter')  \n",
    "plt.xlabel('Year_constructed')  \n",
    "plt.ylabel('Price_per_m2')  \n",
    "plt.show()"
   ]
  },
  {
   "cell_type": "code",
   "execution_count": 54,
   "id": "319e26f8",
   "metadata": {},
   "outputs": [],
   "source": [
    "# Reshape again.\n",
    "\n",
    "X_2 = df_test['Year_constructed'].values.reshape(-1,1)\n",
    "y_2 = df_test['Price_per_m2'].values.reshape(-1,1)"
   ]
  },
  {
   "cell_type": "code",
   "execution_count": 55,
   "id": "760e112e",
   "metadata": {},
   "outputs": [],
   "source": [
    "X_train_2, X_test_2, y_train_2, y_test_2 = train_test_split(X_2, y_2, test_size=0.3, random_state=0)"
   ]
  },
  {
   "cell_type": "code",
   "execution_count": 56,
   "id": "478ef43f",
   "metadata": {},
   "outputs": [
    {
     "data": {
      "text/plain": [
       "LinearRegression()"
      ]
     },
     "execution_count": 56,
     "metadata": {},
     "output_type": "execute_result"
    }
   ],
   "source": [
    "# Run and fit the regression.\n",
    "\n",
    "regression = LinearRegression()  \n",
    "regression.fit(X_train_2, y_train_2)"
   ]
  },
  {
   "cell_type": "code",
   "execution_count": 57,
   "id": "ffa1e702",
   "metadata": {},
   "outputs": [],
   "source": [
    "# Predict.\n",
    "\n",
    "y_predicted_2 = regression.predict(X_test_2)"
   ]
  },
  {
   "cell_type": "code",
   "execution_count": 58,
   "id": "1888a811",
   "metadata": {},
   "outputs": [],
   "source": [
    "rmse = mean_squared_error(y_test_2, y_predicted_2)\n",
    "r2 = r2_score(y_test_2, y_predicted_2)"
   ]
  },
  {
   "cell_type": "code",
   "execution_count": 59,
   "id": "2f4e5601",
   "metadata": {},
   "outputs": [
    {
     "name": "stdout",
     "output_type": "stream",
     "text": [
      "Slope: [[0.02856851]]\n",
      "Mean squared error:  19.09067622075395\n",
      "R2 score:  0.06356472916096212\n"
     ]
    }
   ],
   "source": [
    "print('Slope:' ,regression.coef_)\n",
    "print('Mean squared error: ', rmse)\n",
    "print('R2 score: ', r2)"
   ]
  },
  {
   "cell_type": "code",
   "execution_count": 60,
   "id": "2365f494",
   "metadata": {},
   "outputs": [
    {
     "data": {
      "image/png": "[encoded data removed]",
      "text/plain": [
       "<Figure size 640x480 with 1 Axes>"
      ]
     },
     "metadata": {},
     "output_type": "display_data"
    }
   ],
   "source": [
    "# Visualizing the test set results.\n",
    "plot_test = plt\n",
    "plot_test.scatter(X_test_2, y_test_2, color='gray', s = 15)\n",
    "plot_test.plot(X_test_2, y_predicted_2, color='red', linewidth =3)\n",
    "plot_test.title('Constrcuction year vs Price per square meter(Test set)')\n",
    "plot_test.xlabel('Year_constructed')\n",
    "plot_test.ylabel('Price_per_m2')\n",
    "plot_test.show()"
   ]
  },
  {
   "cell_type": "code",
   "execution_count": 66,
   "id": "c8526b45",
   "metadata": {},
   "outputs": [
    {
     "data": {
      "text/html": [
       "<div>\n",
       "<style scoped>\n",
       "    .dataframe tbody tr th:only-of-type {\n",
       "        vertical-align: middle;\n",
       "    }\n",
       "\n",
       "    .dataframe tbody tr th {\n",
       "        vertical-align: top;\n",
       "    }\n",
       "\n",
       "    .dataframe thead th {\n",
       "        text-align: right;\n",
       "    }\n",
       "</style>\n",
       "<table border=\"1\" class=\"dataframe\">\n",
       "  <thead>\n",
       "    <tr style=\"text-align: right;\">\n",
       "      <th></th>\n",
       "      <th>Actual</th>\n",
       "      <th>Predicted</th>\n",
       "    </tr>\n",
       "  </thead>\n",
       "  <tbody>\n",
       "    <tr>\n",
       "      <th>0</th>\n",
       "      <td>12.058362</td>\n",
       "      <td>8.864956</td>\n",
       "    </tr>\n",
       "    <tr>\n",
       "      <th>1</th>\n",
       "      <td>10.400000</td>\n",
       "      <td>9.407758</td>\n",
       "    </tr>\n",
       "    <tr>\n",
       "      <th>2</th>\n",
       "      <td>10.011137</td>\n",
       "      <td>9.579169</td>\n",
       "    </tr>\n",
       "    <tr>\n",
       "      <th>3</th>\n",
       "      <td>11.533981</td>\n",
       "      <td>10.093402</td>\n",
       "    </tr>\n",
       "    <tr>\n",
       "      <th>4</th>\n",
       "      <td>9.701831</td>\n",
       "      <td>10.150539</td>\n",
       "    </tr>\n",
       "    <tr>\n",
       "      <th>5</th>\n",
       "      <td>10.600000</td>\n",
       "      <td>9.207779</td>\n",
       "    </tr>\n",
       "    <tr>\n",
       "      <th>6</th>\n",
       "      <td>5.993151</td>\n",
       "      <td>9.464895</td>\n",
       "    </tr>\n",
       "    <tr>\n",
       "      <th>7</th>\n",
       "      <td>6.666667</td>\n",
       "      <td>8.322155</td>\n",
       "    </tr>\n",
       "    <tr>\n",
       "      <th>8</th>\n",
       "      <td>11.483489</td>\n",
       "      <td>8.350723</td>\n",
       "    </tr>\n",
       "    <tr>\n",
       "      <th>9</th>\n",
       "      <td>13.001476</td>\n",
       "      <td>10.179108</td>\n",
       "    </tr>\n",
       "    <tr>\n",
       "      <th>10</th>\n",
       "      <td>11.951220</td>\n",
       "      <td>9.150642</td>\n",
       "    </tr>\n",
       "    <tr>\n",
       "      <th>11</th>\n",
       "      <td>11.500000</td>\n",
       "      <td>10.121971</td>\n",
       "    </tr>\n",
       "    <tr>\n",
       "      <th>12</th>\n",
       "      <td>7.000000</td>\n",
       "      <td>6.750887</td>\n",
       "    </tr>\n",
       "    <tr>\n",
       "      <th>13</th>\n",
       "      <td>10.000000</td>\n",
       "      <td>10.121971</td>\n",
       "    </tr>\n",
       "    <tr>\n",
       "      <th>14</th>\n",
       "      <td>4.259635</td>\n",
       "      <td>6.950866</td>\n",
       "    </tr>\n",
       "    <tr>\n",
       "      <th>15</th>\n",
       "      <td>18.000000</td>\n",
       "      <td>6.750887</td>\n",
       "    </tr>\n",
       "    <tr>\n",
       "      <th>16</th>\n",
       "      <td>5.495356</td>\n",
       "      <td>7.322257</td>\n",
       "    </tr>\n",
       "    <tr>\n",
       "      <th>17</th>\n",
       "      <td>4.718417</td>\n",
       "      <td>7.493668</td>\n",
       "    </tr>\n",
       "    <tr>\n",
       "      <th>18</th>\n",
       "      <td>13.035714</td>\n",
       "      <td>9.436327</td>\n",
       "    </tr>\n",
       "    <tr>\n",
       "      <th>19</th>\n",
       "      <td>8.540541</td>\n",
       "      <td>9.807717</td>\n",
       "    </tr>\n",
       "    <tr>\n",
       "      <th>20</th>\n",
       "      <td>6.491228</td>\n",
       "      <td>8.664977</td>\n",
       "    </tr>\n",
       "    <tr>\n",
       "      <th>21</th>\n",
       "      <td>6.233154</td>\n",
       "      <td>8.350723</td>\n",
       "    </tr>\n",
       "    <tr>\n",
       "      <th>22</th>\n",
       "      <td>8.487395</td>\n",
       "      <td>7.036572</td>\n",
       "    </tr>\n",
       "    <tr>\n",
       "      <th>23</th>\n",
       "      <td>6.055901</td>\n",
       "      <td>9.493464</td>\n",
       "    </tr>\n",
       "    <tr>\n",
       "      <th>24</th>\n",
       "      <td>7.263158</td>\n",
       "      <td>9.436327</td>\n",
       "    </tr>\n",
       "    <tr>\n",
       "      <th>25</th>\n",
       "      <td>5.243902</td>\n",
       "      <td>7.779353</td>\n",
       "    </tr>\n",
       "    <tr>\n",
       "      <th>26</th>\n",
       "      <td>12.921304</td>\n",
       "      <td>10.150539</td>\n",
       "    </tr>\n",
       "    <tr>\n",
       "      <th>27</th>\n",
       "      <td>5.957447</td>\n",
       "      <td>7.065140</td>\n",
       "    </tr>\n",
       "    <tr>\n",
       "      <th>28</th>\n",
       "      <td>6.734588</td>\n",
       "      <td>6.893729</td>\n",
       "    </tr>\n",
       "    <tr>\n",
       "      <th>29</th>\n",
       "      <td>9.895833</td>\n",
       "      <td>9.550601</td>\n",
       "    </tr>\n",
       "  </tbody>\n",
       "</table>\n",
       "</div>"
      ],
      "text/plain": [
       "       Actual  Predicted\n",
       "0   12.058362   8.864956\n",
       "1   10.400000   9.407758\n",
       "2   10.011137   9.579169\n",
       "3   11.533981  10.093402\n",
       "4    9.701831  10.150539\n",
       "5   10.600000   9.207779\n",
       "6    5.993151   9.464895\n",
       "7    6.666667   8.322155\n",
       "8   11.483489   8.350723\n",
       "9   13.001476  10.179108\n",
       "10  11.951220   9.150642\n",
       "11  11.500000  10.121971\n",
       "12   7.000000   6.750887\n",
       "13  10.000000  10.121971\n",
       "14   4.259635   6.950866\n",
       "15  18.000000   6.750887\n",
       "16   5.495356   7.322257\n",
       "17   4.718417   7.493668\n",
       "18  13.035714   9.436327\n",
       "19   8.540541   9.807717\n",
       "20   6.491228   8.664977\n",
       "21   6.233154   8.350723\n",
       "22   8.487395   7.036572\n",
       "23   6.055901   9.493464\n",
       "24   7.263158   9.436327\n",
       "25   5.243902   7.779353\n",
       "26  12.921304  10.150539\n",
       "27   5.957447   7.065140\n",
       "28   6.734588   6.893729\n",
       "29   9.895833   9.550601"
      ]
     },
     "execution_count": 66,
     "metadata": {},
     "output_type": "execute_result"
    }
   ],
   "source": [
    "data = pd.DataFrame({'Actual': y_test_2.flatten(), 'Predicted': y_predicted_2.flatten()})\n",
    "data.head(30)"
   ]
  },
  {
   "cell_type": "markdown",
   "id": "226bae0b",
   "metadata": {},
   "source": [
    "# Hypothesis: Newer the rental property is, Higher the rental price."
   ]
  },
  {
   "cell_type": "markdown",
   "id": "3403586a",
   "metadata": {},
   "source": [
    "#### Right off the bat, we can see there’s quite the difference between the actual and predicted y values. This just adds evidence to the fact that the model isn’t doing a great job of explaining the relationship between the “Year of construction” and “Price per m2” variables."
   ]
  }
 ],
 "metadata": {
  "kernelspec": {
   "display_name": "Python 3 (ipykernel)",
   "language": "python",
   "name": "python3"
  },
  "language_info": {
   "codemirror_mode": {
    "name": "ipython",
    "version": 3
   },
   "file_extension": ".py",
   "mimetype": "text/x-python",
   "name": "python",
   "nbconvert_exporter": "python",
   "pygments_lexer": "ipython3",
   "version": "3.9.16"
  }
 },
 "nbformat": 4,
 "nbformat_minor": 5
}
